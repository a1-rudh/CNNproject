{
  "nbformat": 4,
  "nbformat_minor": 0,
  "metadata": {
    "colab": {
      "provenance": [],
      "collapsed_sections": [],
      "include_colab_link": true
    },
    "kernelspec": {
      "name": "python3",
      "display_name": "Python 3"
    }
  },
  "cells": [
    {
      "cell_type": "markdown",
      "metadata": {
        "id": "view-in-github",
        "colab_type": "text"
      },
      "source": [
        "<a href=\"https://colab.research.google.com/github/tk2093/CNN/blob/main/MNIST_KERAS_programassignment6.ipynb\" target=\"_parent\"><img src=\"https://colab.research.google.com/assets/colab-badge.svg\" alt=\"Open In Colab\"/></a>"
      ]
    },
    {
      "cell_type": "code",
      "metadata": {
        "id": "TSXTRc37giwE",
        "colab": {
          "base_uri": "https://localhost:8080/",
          "height": 1547
        },
        "outputId": "4899ab53-05d9-4095-8a1b-659c5592dcc5"
      },
      "source": [
        "#reference https://towardsdatascience.com/building-a-convolutional-neural-network-cnn-in-keras-329fbbadc5f5\n",
        "# reference https://elitedatascience.com/keras-tutorial-deep-learning-in-python\n",
        "\n",
        "from keras.datasets import mnist\n",
        "import matplotlib.pyplot as plt\n",
        "from keras.utils import to_categorical\n",
        "from keras.models import Sequential\n",
        "from keras.layers import Dense, Conv2D, Flatten, MaxPooling2D, Dropout\n",
        "import numpy as np\n",
        "\n",
        "\n",
        "def gen_image(arr):\n",
        "    two_d = (np.reshape(arr, (28, 28)) * 255).astype(np.uint8)\n",
        "    plt.imshow(two_d, interpolation='nearest')\n",
        "    return plt\n",
        "  \n",
        "\n",
        "  \n",
        "from google.colab import drive\n",
        "drive.mount('/content/drive')\n",
        "\n",
        "\n",
        "#download mnist data and split into train and test sets\n",
        "(X_train, y_train), (X_test, y_test) = mnist.load_data()\n",
        "\n",
        "#check image shape\n",
        "print(X_train[0].shape)\n",
        "\n",
        "#normalization values between 0 and 1\n",
        "#X_train = X_train / 255\n",
        "#X_test = X_test / 255\n",
        "\n",
        "#reshape data to fit model\n",
        "X_train = X_train.reshape(60000,28,28,1)\n",
        "X_test = X_test.reshape(10000,28,28,1)\n",
        "\n",
        "#one-hot encode target column which is equal to generate_t in program 5\n",
        "y_train = to_categorical(y_train)\n",
        "y_test = to_categorical(y_test)\n",
        "y_train[0]\n",
        "\n",
        "\n",
        "#create model\n",
        "model = Sequential()\n",
        "#add model layers\n",
        "model.add(Conv2D(64, kernel_size=3, activation='relu', input_shape=(28,28,1))) \n",
        "        # 64 are the number of filters, kernel size is the size of the filters example 3*3 here. activation used is relu.finally shape of the image\n",
        "#model.add(Conv2D(32, kernel_size=3, activation='relu'))\n",
        "#model.add(MaxPooling2D(pool_size=(2,2)))\n",
        "model.add(Dropout(0.25))\n",
        "model.add(Flatten())\n",
        "model.add(Dense(128, activation='relu'))\n",
        "model.add(Dropout(0.5))\n",
        "model.add(Dense(10, activation='softmax'))\n",
        "\n",
        "# 8. Compile model\n",
        "model.compile(loss='categorical_crossentropy',\n",
        "              optimizer='adam',\n",
        "              metrics=['accuracy'])\n",
        " \n",
        "# 9. Fit model on training data\n",
        "model.fit(X_train, y_train, \n",
        "          batch_size=32, epochs=10, verbose=1) #epochs  = iterations(Nit)\n",
        "\n",
        "# 10. Evaluate model on test data\n",
        "score = model.evaluate(X_test, y_test, verbose=1)\n",
        "\n",
        "print('Testing accuracy - > ',score[1] * 100)\n",
        " \n",
        "ytested = model.predict(X_test)\n",
        "for i in range(4):\n",
        "  gen_image(X_test[i]).show() # printing image vs the predicted image below\n",
        "  print(\"The Predicted Testing image is =%s\" % (np.argmax(ytested[i])))\n"
      ],
      "execution_count": 1,
      "outputs": [
        {
          "output_type": "stream",
          "name": "stdout",
          "text": [
            "Mounted at /content/drive\n",
            "Downloading data from https://storage.googleapis.com/tensorflow/tf-keras-datasets/mnist.npz\n",
            "11490434/11490434 [==============================] - 0s 0us/step\n",
            "(28, 28)\n",
            "Epoch 1/10\n",
            "1875/1875 [==============================] - 157s 83ms/step - loss: 1.4123 - accuracy: 0.6254\n",
            "Epoch 2/10\n",
            "1875/1875 [==============================] - 160s 86ms/step - loss: 0.3722 - accuracy: 0.8875\n",
            "Epoch 3/10\n",
            "1875/1875 [==============================] - 160s 85ms/step - loss: 0.2227 - accuracy: 0.9361\n",
            "Epoch 4/10\n",
            "1875/1875 [==============================] - 160s 85ms/step - loss: 0.1686 - accuracy: 0.9510\n",
            "Epoch 5/10\n",
            "1875/1875 [==============================] - 157s 84ms/step - loss: 0.1416 - accuracy: 0.9595\n",
            "Epoch 6/10\n",
            "1875/1875 [==============================] - 160s 85ms/step - loss: 0.1217 - accuracy: 0.9643\n",
            "Epoch 7/10\n",
            "1875/1875 [==============================] - 159s 85ms/step - loss: 0.1173 - accuracy: 0.9671\n",
            "Epoch 8/10\n",
            "1875/1875 [==============================] - 155s 82ms/step - loss: 0.1032 - accuracy: 0.9711\n",
            "Epoch 9/10\n",
            "1875/1875 [==============================] - 158s 84ms/step - loss: 0.0988 - accuracy: 0.9727\n",
            "Epoch 10/10\n",
            "1875/1875 [==============================] - 156s 83ms/step - loss: 0.0887 - accuracy: 0.9748\n",
            "313/313 [==============================] - 5s 16ms/step - loss: 0.0977 - accuracy: 0.9781\n",
            "Testing accuracy - >  97.81000018119812\n",
            "313/313 [==============================] - 7s 22ms/step\n"
          ]
        },
        {
          "output_type": "display_data",
          "data": {
            "text/plain": [
              "<Figure size 432x288 with 1 Axes>"
            ],
            "image/png": "[encoded data removed]"
          },
          "metadata": {
            "needs_background": "light"
          }
        },
        {
          "output_type": "stream",
          "name": "stdout",
          "text": [
            "The Predicted Testing image is =7\n"
          ]
        },
        {
          "output_type": "display_data",
          "data": {
            "text/plain": [
              "<Figure size 432x288 with 1 Axes>"
            ],
            "image/png": "[encoded data removed]"
          },
          "metadata": {
            "needs_background": "light"
          }
        },
        {
          "output_type": "stream",
          "name": "stdout",
          "text": [
            "The Predicted Testing image is =2\n"
          ]
        },
        {
          "output_type": "display_data",
          "data": {
            "text/plain": [
              "<Figure size 432x288 with 1 Axes>"
            ],
            "image/png": "[encoded data removed]"
          },
          "metadata": {
            "needs_background": "light"
          }
        },
        {
          "output_type": "stream",
          "name": "stdout",
          "text": [
            "The Predicted Testing image is =1\n"
          ]
        },
        {
          "output_type": "display_data",
          "data": {
            "text/plain": [
              "<Figure size 432x288 with 1 Axes>"
            ],
            "image/png": "[encoded data removed]"
          },
          "metadata": {
            "needs_background": "light"
          }
        },
        {
          "output_type": "stream",
          "name": "stdout",
          "text": [
            "The Predicted Testing image is =0\n"
          ]
        }
      ]
    },
    {
      "cell_type": "code",
      "source": [
        "model = Sequential()\n",
        "#add model layers\n",
        "model.add(Conv2D(64, kernel_size=3, activation='relu', input_shape=(28,28,1))) \n",
        "        # 64 are the number of filters, kernel size is the size of the filters example 3*3 here. activation used is relu.finally shape of the image\n",
        "#model.add(Conv2D(32, kernel_size=3, activation='relu'))\n",
        "model.add(MaxPooling2D(pool_size=(2,2)))\n",
        "model.add(Dropout(0.25))\n",
        "model.add(Flatten())\n",
        "model.add(Dense(128, activation='relu'))\n",
        "model.add(Dropout(0.5))\n",
        "model.add(Dense(10, activation='softmax'))\n",
        "\n",
        "# 8. Compile model\n",
        "model.compile(loss='categorical_crossentropy',\n",
        "              optimizer='adam',\n",
        "              metrics=['accuracy'])\n",
        " \n",
        "# 9. Fit model on training data\n",
        "model.fit(X_train, y_train, \n",
        "          batch_size=32, epochs=10, verbose=1) #epochs  = iterations(Nit)\n",
        "\n",
        "# 10. Evaluate model on test data\n",
        "score = model.evaluate(X_test, y_test, verbose=1)\n",
        "\n",
        "print('Testing accuracy - > ',score[1] * 100)\n",
        " \n",
        "ytested = model.predict(X_test)\n",
        "for i in range(4):\n",
        "  gen_image(X_test[i]).show() # printing image vs the predicted image below\n",
        "  print(\"The Predicted Testing image is =%s\" % (np.argmax(ytested[i])))"
      ],
      "metadata": {
        "id": "W6CoyqGyoLR6",
        "colab": {
          "base_uri": "https://localhost:8080/",
          "height": 1477
        },
        "outputId": "cfea3fc0-0568-4031-8e26-d6714abfb5f8"
      },
      "execution_count": 2,
      "outputs": [
        {
          "output_type": "stream",
          "name": "stdout",
          "text": [
            "Epoch 1/10\n",
            "1875/1875 [==============================] - 75s 40ms/step - loss: 0.8299 - accuracy: 0.7972\n",
            "Epoch 2/10\n",
            "1875/1875 [==============================] - 73s 39ms/step - loss: 0.2448 - accuracy: 0.9288\n",
            "Epoch 3/10\n",
            "1875/1875 [==============================] - 74s 39ms/step - loss: 0.1843 - accuracy: 0.9467\n",
            "Epoch 4/10\n",
            "1875/1875 [==============================] - 73s 39ms/step - loss: 0.1584 - accuracy: 0.9540\n",
            "Epoch 5/10\n",
            "1875/1875 [==============================] - 73s 39ms/step - loss: 0.1415 - accuracy: 0.9599\n",
            "Epoch 6/10\n",
            "1875/1875 [==============================] - 73s 39ms/step - loss: 0.1319 - accuracy: 0.9621\n",
            "Epoch 7/10\n",
            "1875/1875 [==============================] - 74s 39ms/step - loss: 0.1236 - accuracy: 0.9644\n",
            "Epoch 8/10\n",
            "1875/1875 [==============================] - 79s 42ms/step - loss: 0.1181 - accuracy: 0.9660\n",
            "Epoch 9/10\n",
            "1875/1875 [==============================] - 84s 45ms/step - loss: 0.1106 - accuracy: 0.9684\n",
            "Epoch 10/10\n",
            "1875/1875 [==============================] - 76s 41ms/step - loss: 0.1061 - accuracy: 0.9706\n",
            "313/313 [==============================] - 4s 11ms/step - loss: 0.0787 - accuracy: 0.9805\n",
            "Testing accuracy - >  98.04999828338623\n",
            "313/313 [==============================] - 3s 10ms/step\n"
          ]
        },
        {
          "output_type": "display_data",
          "data": {
            "text/plain": [
              "<Figure size 432x288 with 1 Axes>"
            ],
            "image/png": "[encoded data removed]"
          },
          "metadata": {
            "needs_background": "light"
          }
        },
        {
          "output_type": "stream",
          "name": "stdout",
          "text": [
            "The Predicted Testing image is =7\n"
          ]
        },
        {
          "output_type": "display_data",
          "data": {
            "text/plain": [
              "<Figure size 432x288 with 1 Axes>"
            ],
            "image/png": "[encoded data removed]"
          },
          "metadata": {
            "needs_background": "light"
          }
        },
        {
          "output_type": "stream",
          "name": "stdout",
          "text": [
            "The Predicted Testing image is =2\n"
          ]
        },
        {
          "output_type": "display_data",
          "data": {
            "text/plain": [
              "<Figure size 432x288 with 1 Axes>"
            ],
            "image/png": "[encoded data removed]"
          },
          "metadata": {
            "needs_background": "light"
          }
        },
        {
          "output_type": "stream",
          "name": "stdout",
          "text": [
            "The Predicted Testing image is =1\n"
          ]
        },
        {
          "output_type": "display_data",
          "data": {
            "text/plain": [
              "<Figure size 432x288 with 1 Axes>"
            ],
            "image/png": "[encoded data removed]"
          },
          "metadata": {
            "needs_background": "light"
          }
        },
        {
          "output_type": "stream",
          "name": "stdout",
          "text": [
            "The Predicted Testing image is =0\n"
          ]
        }
      ]
    },
    {
      "cell_type": "code",
      "source": [
        "model = Sequential()\n",
        "#add model layers\n",
        "model.add(Conv2D(64, kernel_size=3, activation='relu', input_shape=(28,28,1))) \n",
        "        # 64 are the number of filters, kernel size is the size of the filters example 3*3 here. activation used is relu.finally shape of the image\n",
        "model.add(Conv2D(32, kernel_size=3, activation='relu'))\n",
        "model.add(MaxPooling2D(pool_size=(2,2)))\n",
        "model.add(Dropout(0.25))\n",
        "model.add(Flatten())\n",
        "model.add(Dense(128, activation='relu'))\n",
        "model.add(Dropout(0.5))\n",
        "model.add(Dense(10, activation='softmax'))\n",
        "\n",
        "# 8. Compile model\n",
        "model.compile(loss='categorical_crossentropy',\n",
        "              optimizer='adam',\n",
        "              metrics=['accuracy'])\n",
        " \n",
        "# 9. Fit model on training data\n",
        "model.fit(X_train, y_train, \n",
        "          batch_size=32, epochs=10, verbose=1) #epochs  = iterations(Nit)\n",
        "\n",
        "# 10. Evaluate model on test data\n",
        "score = model.evaluate(X_test, y_test, verbose=1)\n",
        "\n",
        "print('Testing accuracy - > ',score[1] * 100)\n",
        "\n",
        "ytested = model.predict(X_test)\n",
        "for i in range(4):\n",
        "  gen_image(X_test[i]).show() # printing image vs the predicted image below\n",
        "  print(\"The Predicted Testing image is =%s\" % (np.argmax(ytested[i])))"
      ],
      "metadata": {
        "id": "kQibmK89sihm",
        "colab": {
          "base_uri": "https://localhost:8080/",
          "height": 1477
        },
        "outputId": "de2e99dd-eb93-4f74-ca72-030c63960451"
      },
      "execution_count": 3,
      "outputs": [
        {
          "output_type": "stream",
          "name": "stdout",
          "text": [
            "Epoch 1/10\n",
            "1875/1875 [==============================] - 208s 111ms/step - loss: 0.3911 - accuracy: 0.9050\n",
            "Epoch 2/10\n",
            "1875/1875 [==============================] - 208s 111ms/step - loss: 0.1463 - accuracy: 0.9573\n",
            "Epoch 3/10\n",
            "1875/1875 [==============================] - 206s 110ms/step - loss: 0.1159 - accuracy: 0.9654\n",
            "Epoch 4/10\n",
            "1875/1875 [==============================] - 217s 116ms/step - loss: 0.1005 - accuracy: 0.9692\n",
            "Epoch 5/10\n",
            "1875/1875 [==============================] - 205s 109ms/step - loss: 0.0913 - accuracy: 0.9727\n",
            "Epoch 6/10\n",
            "1875/1875 [==============================] - 214s 114ms/step - loss: 0.0788 - accuracy: 0.9767\n",
            "Epoch 7/10\n",
            "1875/1875 [==============================] - 206s 110ms/step - loss: 0.0703 - accuracy: 0.9787\n",
            "Epoch 8/10\n",
            "1875/1875 [==============================] - 205s 109ms/step - loss: 0.0669 - accuracy: 0.9809\n",
            "Epoch 9/10\n",
            "1875/1875 [==============================] - 205s 110ms/step - loss: 0.0663 - accuracy: 0.9806\n",
            "Epoch 10/10\n",
            "1875/1875 [==============================] - 208s 111ms/step - loss: 0.0572 - accuracy: 0.9827\n",
            "313/313 [==============================] - 8s 24ms/step - loss: 0.0383 - accuracy: 0.9895\n",
            "Testing accuracy - >  98.94999861717224\n",
            "313/313 [==============================] - 8s 24ms/step\n"
          ]
        },
        {
          "output_type": "display_data",
          "data": {
            "text/plain": [
              "<Figure size 432x288 with 1 Axes>"
            ],
            "image/png": "[encoded data removed]"
          },
          "metadata": {
            "needs_background": "light"
          }
        },
        {
          "output_type": "stream",
          "name": "stdout",
          "text": [
            "The Predicted Testing image is =7\n"
          ]
        },
        {
          "output_type": "display_data",
          "data": {
            "text/plain": [
              "<Figure size 432x288 with 1 Axes>"
            ],
            "image/png": "[encoded data removed]"
          },
          "metadata": {
            "needs_background": "light"
          }
        },
        {
          "output_type": "stream",
          "name": "stdout",
          "text": [
            "The Predicted Testing image is =2\n"
          ]
        },
        {
          "output_type": "display_data",
          "data": {
            "text/plain": [
              "<Figure size 432x288 with 1 Axes>"
            ],
            "image/png": "[encoded data removed]"
          },
          "metadata": {
            "needs_background": "light"
          }
        },
        {
          "output_type": "stream",
          "name": "stdout",
          "text": [
            "The Predicted Testing image is =1\n"
          ]
        },
        {
          "output_type": "display_data",
          "data": {
            "text/plain": [
              "<Figure size 432x288 with 1 Axes>"
            ],
            "image/png": "[encoded data removed]"
          },
          "metadata": {
            "needs_background": "light"
          }
        },
        {
          "output_type": "stream",
          "name": "stdout",
          "text": [
            "The Predicted Testing image is =0\n"
          ]
        }
      ]
    },
    {
      "cell_type": "code",
      "source": [
        "#download mnist data and split into train and test sets\n",
        "(X_train, y_train), (X_test, y_test) = mnist.load_data()\n",
        "\n",
        "#check image shape\n",
        "print(X_train[0].shape)\n",
        "\n",
        "#normalization values between 0 and 1\n",
        "X_train = X_train / 255\n",
        "X_test = X_test / 255\n",
        "\n",
        "#reshape data to fit model\n",
        "X_train = X_train.reshape(60000,28,28,1)\n",
        "X_test = X_test.reshape(10000,28,28,1)\n",
        "\n",
        "#one-hot encode target column which is equal to generate_t in program 5\n",
        "y_train = to_categorical(y_train)\n",
        "y_test = to_categorical(y_test)\n",
        "y_train[0]\n",
        "\n",
        "\n",
        "#create model\n",
        "model = Sequential()\n",
        "#add model layers\n",
        "model.add(Conv2D(64, kernel_size=3, activation='relu', input_shape=(28,28,1))) \n",
        "        # 64 are the number of filters, kernel size is the size of the filters example 3*3 here. activation used is relu.finally shape of the image\n",
        "model.add(Conv2D(32, kernel_size=3, activation='relu'))\n",
        "model.add(MaxPooling2D(pool_size=(2,2)))\n",
        "model.add(Dropout(0.25))\n",
        "model.add(Flatten())\n",
        "model.add(Dense(128, activation='relu'))\n",
        "model.add(Dropout(0.5))\n",
        "model.add(Dense(10, activation='softmax'))\n",
        "\n",
        "# 8. Compile model\n",
        "model.compile(loss='categorical_crossentropy',\n",
        "              optimizer='adam',\n",
        "              metrics=['accuracy'])\n",
        " \n",
        "# 9. Fit model on training data\n",
        "model.fit(X_train, y_train, \n",
        "          batch_size=32, epochs=10, verbose=1) #epochs  = iterations(Nit)\n",
        "\n",
        "# 10. Evaluate model on test data\n",
        "score = model.evaluate(X_test, y_test, verbose=1)\n",
        "\n",
        "print('Testing accuracy - > ',score[1] * 100)\n",
        " \n",
        "ytested = model.predict(X_test)\n",
        "for i in range(4):\n",
        "  gen_image(X_test[i]).show() # printing image vs the predicted image below\n",
        "  print(\"The Predicted Testing image is =%s\" % (np.argmax(ytested[i])))"
      ],
      "metadata": {
        "colab": {
          "base_uri": "https://localhost:8080/",
          "height": 1495
        },
        "id": "znMq0E0r0Hnf",
        "outputId": "43fe8d67-c014-425a-de0b-bf86b9d6d5d6"
      },
      "execution_count": 4,
      "outputs": [
        {
          "output_type": "stream",
          "name": "stdout",
          "text": [
            "(28, 28)\n",
            "Epoch 1/10\n",
            "1875/1875 [==============================] - 205s 109ms/step - loss: 0.1953 - accuracy: 0.9408\n",
            "Epoch 2/10\n",
            "1875/1875 [==============================] - 204s 109ms/step - loss: 0.0835 - accuracy: 0.9744\n",
            "Epoch 3/10\n",
            "1875/1875 [==============================] - 204s 109ms/step - loss: 0.0635 - accuracy: 0.9798\n",
            "Epoch 4/10\n",
            "1875/1875 [==============================] - 209s 111ms/step - loss: 0.0546 - accuracy: 0.9834\n",
            "Epoch 5/10\n",
            "1875/1875 [==============================] - 207s 111ms/step - loss: 0.0477 - accuracy: 0.9851\n",
            "Epoch 6/10\n",
            "1875/1875 [==============================] - 207s 110ms/step - loss: 0.0387 - accuracy: 0.9875\n",
            "Epoch 7/10\n",
            "1875/1875 [==============================] - 205s 109ms/step - loss: 0.0367 - accuracy: 0.9890\n",
            "Epoch 8/10\n",
            "1875/1875 [==============================] - 205s 110ms/step - loss: 0.0338 - accuracy: 0.9892\n",
            "Epoch 9/10\n",
            "1875/1875 [==============================] - 205s 109ms/step - loss: 0.0296 - accuracy: 0.9905\n",
            "Epoch 10/10\n",
            "1875/1875 [==============================] - 205s 109ms/step - loss: 0.0280 - accuracy: 0.9908\n",
            "313/313 [==============================] - 8s 24ms/step - loss: 0.0301 - accuracy: 0.9915\n",
            "Testing accuracy - >  99.15000200271606\n",
            "313/313 [==============================] - 8s 24ms/step\n"
          ]
        },
        {
          "output_type": "display_data",
          "data": {
            "text/plain": [
              "<Figure size 432x288 with 1 Axes>"
            ],
            "image/png": "[encoded data removed]"
          },
          "metadata": {
            "needs_background": "light"
          }
        },
        {
          "output_type": "stream",
          "name": "stdout",
          "text": [
            "The Predicted Testing image is =7\n"
          ]
        },
        {
          "output_type": "display_data",
          "data": {
            "text/plain": [
              "<Figure size 432x288 with 1 Axes>"
            ],
            "image/png": "[encoded data removed]"
          },
          "metadata": {
            "needs_background": "light"
          }
        },
        {
          "output_type": "stream",
          "name": "stdout",
          "text": [
            "The Predicted Testing image is =2\n"
          ]
        },
        {
          "output_type": "display_data",
          "data": {
            "text/plain": [
              "<Figure size 432x288 with 1 Axes>"
            ],
            "image/png": "[encoded data removed]"
          },
          "metadata": {
            "needs_background": "light"
          }
        },
        {
          "output_type": "stream",
          "name": "stdout",
          "text": [
            "The Predicted Testing image is =1\n"
          ]
        },
        {
          "output_type": "display_data",
          "data": {
            "text/plain": [
              "<Figure size 432x288 with 1 Axes>"
            ],
            "image/png": "[encoded data removed]"
          },
          "metadata": {
            "needs_background": "light"
          }
        },
        {
          "output_type": "stream",
          "name": "stdout",
          "text": [
            "The Predicted Testing image is =0\n"
          ]
        }
      ]
    },
    {
      "cell_type": "code",
      "source": [],
      "metadata": {
        "id": "3lQnSDBK0Znr"
      },
      "execution_count": null,
      "outputs": []
    }
  ]
}