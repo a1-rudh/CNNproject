{
 "cells": [
  {
   "cell_type": "code",
   "execution_count": 1,
   "metadata": {
    "execution": {
     "iopub.execute_input": "2022-03-20T18:19:41.275597Z",
     "iopub.status.busy": "2022-03-20T18:19:41.275073Z",
     "iopub.status.idle": "2022-03-20T18:19:42.964065Z",
     "shell.execute_reply": "2022-03-20T18:19:42.963305Z",
     "shell.execute_reply.started": "2022-03-20T18:19:41.275504Z"
    }
   },
   "outputs": [],
   "source": [
    "\n",
    "import numpy as np\n",
    "import pandas as pd\n",
    "import matplotlib.pyplot as plt\n",
    "import random as rn\n",
    "import time\n",
    "\n",
    "import torch\n",
    "import torchvision.transforms as transform\n",
    "from torchvision.datasets import ImageFolder\n",
    "from torch.utils.data import DataLoader, Dataset, ConcatDataset\n",
    "import torch.nn as nn\n",
    "import torch.optim as optim\n",
    "\n",
    "\n",
    "device= torch.device('cuda:0' if torch.cuda.is_available() else 'cpu')\n",
    "print('Using.. ',device)"
   ]
  },
  {
   "cell_type": "code",
   "execution_count": 2,
   "metadata": {
    "execution": {
     "iopub.execute_input": "2022-03-20T18:19:42.965972Z",
     "iopub.status.busy": "2022-03-20T18:19:42.965700Z",
     "iopub.status.idle": "2022-03-20T18:19:42.972647Z",
     "shell.execute_reply": "2022-03-20T18:19:42.971694Z",
     "shell.execute_reply.started": "2022-03-20T18:19:42.965928Z"
    }
   },
   "outputs": [],
   "source": [
    "\n",
    "def accuracy(loader, model):\n",
    "    \"\"\"Calculate the accuracy of a given model on a given loader\"\"\"\n",
    "    correct = 0\n",
    "    total = 0\n",
    "    # since we're not training, we don't need to calculate the gradients for our outputs\n",
    "    with torch.no_grad():\n",
    "        for data in loader:\n",
    "            images, labels = data\n",
    "            images, labels = images.to(device), labels.to(device)\n",
    "            outs = model(images)\n",
    "\n",
    "            _, predicted = torch.max(outs.data, 1)\n",
    "            total += labels.size(0)\n",
    "            correct += (predicted == labels).sum().item()\n",
    "    return correct / total\n"
   ]
  },
  {
   "cell_type": "code",
   "execution_count": 47,
   "metadata": {
    "execution": {
     "iopub.execute_input": "2022-03-20T21:45:06.074834Z",
     "iopub.status.busy": "2022-03-20T21:45:06.074549Z",
     "iopub.status.idle": "2022-03-20T21:45:06.086312Z",
     "shell.execute_reply": "2022-03-20T21:45:06.084746Z",
     "shell.execute_reply.started": "2022-03-20T21:45:06.074799Z"
    }
   },
   "outputs": [],
   "source": [
    "\n",
    "class Net(nn.Module):\n",
    "    def __init__(self):\n",
    "        super().__init__()\n",
    "        self.cnv_layer = nn.Sequential(nn.Conv2d(3, 32, 5),\n",
    "                                       nn.ReLU(),\n",
    "                                       nn.MaxPool2d(2, 2),\n",
    "                                       nn.Dropout(p=0.25),\n",
    "                                       nn.Conv2d(32, 64, 5),\n",
    "                                       nn.ReLU(),\n",
    "                                       nn.MaxPool2d(2, 2),\n",
    "                                       nn.Dropout(p=0.25),\n",
    "                                       nn.Conv2d(64,128,5),\n",
    "                                       nn.ReLU(),\n",
    "                                       nn.MaxPool2d(2, 2),\n",
    "                                       nn.Dropout(p=0.25),\n",
    "                                       nn.Conv2d(128,128,5),\n",
    "                                       nn.ReLU(),\n",
    "                                       nn.MaxPool2d(2, 2),\n",
    "                                       nn.Dropout(p=0.25))\n",
    "        self.lin_layer = nn.Sequential(nn.Linear(4*4*128, 120),\n",
    "                                       nn.ReLU(),\n",
    "                                       nn.Dropout(),\n",
    "#                                        nn.Linear(512, 120),\n",
    "#                                        nn.ReLU(),\n",
    "#                                        nn.Dropout(),\n",
    "                                       nn.Linear(120, 5))\n",
    "\n",
    "    def forward(self, x):\n",
    "        x = self.cnv_layer(x)\n",
    "        x = torch.flatten(x, 1)\n",
    "        x = self.lin_layer(x)\n",
    "        return x\n"
   ]
  },
  {
   "cell_type": "code",
   "execution_count": 48,
   "metadata": {
    "execution": {
     "iopub.execute_input": "2022-03-20T21:45:10.175258Z",
     "iopub.status.busy": "2022-03-20T21:45:10.174697Z",
     "iopub.status.idle": "2022-03-20T21:45:10.179127Z",
     "shell.execute_reply": "2022-03-20T21:45:10.178291Z",
     "shell.execute_reply.started": "2022-03-20T21:45:10.175220Z"
    }
   },
   "outputs": [],
   "source": [
    "path = '../input/flowers-recognition/flowers/'\n",
    "batch_size = 120\n",
    "seed = 42"
   ]
  },
  {
   "cell_type": "code",
   "execution_count": 5,
   "metadata": {
    "execution": {
     "iopub.execute_input": "2022-03-20T18:19:43.001104Z",
     "iopub.status.busy": "2022-03-20T18:19:43.000881Z",
     "iopub.status.idle": "2022-03-20T18:20:21.582252Z",
     "shell.execute_reply": "2022-03-20T18:20:21.581292Z",
     "shell.execute_reply.started": "2022-03-20T18:19:43.001072Z"
    }
   },
   "outputs": [],
   "source": [
    "!pip install split-folders[full]\n",
    "import splitfolders\n",
    "\n",
    "splitfolders.ratio(path, output='./',\n",
    "    seed=seed, ratio=(.8, 0.2), group_prefix=None, move=False)\n"
   ]
  },
  {
   "cell_type": "code",
   "execution_count": 49,
   "metadata": {
    "execution": {
     "iopub.execute_input": "2022-03-20T21:45:13.019334Z",
     "iopub.status.busy": "2022-03-20T21:45:13.018672Z",
     "iopub.status.idle": "2022-03-20T21:45:13.031391Z",
     "shell.execute_reply": "2022-03-20T21:45:13.030742Z",
     "shell.execute_reply.started": "2022-03-20T21:45:13.019296Z"
    }
   },
   "outputs": [],
   "source": [
    "\n",
    "inverse = transform.Compose([transform.Normalize(mean = [ 0., 0., 0. ],\n",
    "                                                 std = [ 1/0.3268945515155792, 1/0.29282665252685547, 1/0.29053378105163574 ]),\n",
    "                             transform.Normalize(mean = [ -0.4124234616756439, -0.3674212694168091, -0.2578217089176178 ],\n",
    "                                                 std = [ 1., 1., 1. ])])\n",
    "\n",
    "aug_1 = transform.Compose([transform.Resize((128, 128)),\n",
    "                          transform.ToTensor(),\n",
    "                          transform.Normalize((0.4124234616756439, 0.3674212694168091, 0.2578217089176178),\n",
    "                                              (0.3268945515155792, 0.29282665252685547, 0.29053378105163574)),\n",
    "                          transform.RandomHorizontalFlip(p=0.5),\n",
    "                          transform.RandomRotation(10),\n",
    "                            transform.RandomErasing(inplace=True, scale=(0.01, 0.23)),\n",
    "                          transform.RandomAffine(translate=(0.05,0.05), degrees=0)])\n",
    "\n",
    "aug_2 = transform.Compose([transform.Resize((128, 128)),\n",
    "                          transform.ToTensor(),\n",
    "                          transform.Normalize((0.4124234616756439, 0.3674212694168091, 0.2578217089176178),\n",
    "                                              (0.3268945515155792, 0.29282665252685547, 0.29053378105163574)),\n",
    "                           transform.RandomVerticalFlip(p=0.5),\n",
    "                           transform.RandomRotation(5),\n",
    "                          transform.ColorJitter(brightness=0.2, contrast=0.2, saturation=0.2),\n",
    "                          transform.RandomAffine(degrees=11, translate=(0.1,0.1), scale=(0.8,0.8))])\n",
    "\n",
    "aug_3 = transform.Compose([transform.Resize((128, 128)),\n",
    "                          transform.ToTensor(),\n",
    "                          transform.Normalize((0.4124234616756439, 0.3674212694168091, 0.2578217089176178),\n",
    "                                              (0.3268945515155792, 0.29282665252685547, 0.29053378105163574)),\n",
    "                          transform.RandomHorizontalFlip(p=0.5),\n",
    "                          transform.RandomRotation(15),\n",
    "                          transform.RandomAffine(translate=(0.08,0.1), degrees=15)])"
   ]
  },
  {
   "cell_type": "code",
   "execution_count": 50,
   "metadata": {
    "execution": {
     "iopub.execute_input": "2022-03-20T21:45:17.471731Z",
     "iopub.status.busy": "2022-03-20T21:45:17.471475Z",
     "iopub.status.idle": "2022-03-20T21:45:17.561484Z",
     "shell.execute_reply": "2022-03-20T21:45:17.560814Z",
     "shell.execute_reply.started": "2022-03-20T21:45:17.471703Z"
    }
   },
   "outputs": [],
   "source": [
    "\n",
    "train_data = ImageFolder('./train', transform=transform.Compose([transform.Resize((128, 128)),\n",
    "                                                                 transform.ToTensor(),\n",
    "                                                                 transform.Normalize((0.4124234616756439, 0.3674212694168091, 0.2578217089176178),\n",
    "                                                                                     (0.3268945515155792, 0.29282665252685547, 0.29053378105163574))]))\n",
    "test_data = ImageFolder('./val', transform=transform.Compose([transform.Resize((128, 128)),\n",
    "                                                              transform.ToTensor(),\n",
    "                                                              transform.Normalize((0.4124234616756439, 0.3674212694168091, 0.2578217089176178),\n",
    "                                                                                  (0.3268945515155792, 0.29282665252685547, 0.29053378105163574))]))\n",
    "\n",
    "aug1_data = ImageFolder('./train', transform=aug_1)\n",
    "aug2_data = ImageFolder('./train', transform=aug_2)\n",
    "aug3_data = ImageFolder('./train', transform=aug_3)\n",
    "\n",
    "train = ConcatDataset([train_data, aug1_data, aug2_data, aug3_data])\n"
   ]
  },
  {
   "cell_type": "code",
   "execution_count": 51,
   "metadata": {
    "execution": {
     "iopub.execute_input": "2022-03-20T21:45:21.940701Z",
     "iopub.status.busy": "2022-03-20T21:45:21.940092Z",
     "iopub.status.idle": "2022-03-20T21:45:21.947309Z",
     "shell.execute_reply": "2022-03-20T21:45:21.946462Z",
     "shell.execute_reply.started": "2022-03-20T21:45:21.940658Z"
    }
   },
   "outputs": [],
   "source": [
    "\n",
    "trainloader = torch.utils.data.DataLoader(train, batch_size=batch_size, shuffle=True, num_workers=2, pin_memory=True)\n",
    "testloader = torch.utils.data.DataLoader(test_data, batch_size=batch_size, shuffle=True, num_workers=2, pin_memory=True)\n",
    "\n",
    "classes = ('Daisy', 'Dandelion', 'Rose', 'Sunflower', 'Tulip')\n"
   ]
  },
  {
   "cell_type": "code",
   "execution_count": 52,
   "metadata": {
    "execution": {
     "iopub.execute_input": "2022-03-20T21:45:25.932456Z",
     "iopub.status.busy": "2022-03-20T21:45:25.931725Z",
     "iopub.status.idle": "2022-03-20T21:45:30.130194Z",
     "shell.execute_reply": "2022-03-20T21:45:30.128869Z",
     "shell.execute_reply.started": "2022-03-20T21:45:25.932419Z"
    }
   },
   "outputs": [],
   "source": [
    "\n",
    "fig,ax=plt.subplots(3,4)\n",
    "fig.set_size_inches(16,12)\n",
    "img,y = iter(trainloader).next()\n",
    "img = inverse(img)\n",
    "for i in range(3):\n",
    "    for j in range (4):\n",
    "        idx=rn.randint(0,batch_size-1)\n",
    "        # label = list(train_dataset.class_indices.keys())[np.argmax(y[l])]\n",
    "        npimg = img[idx].numpy()\n",
    "        ax[i,j].imshow(np.transpose(npimg, (1, 2, 0)))\n",
    "        ax[i,j].set_title(classes[y[idx]])\n",
    "\n",
    "plt.tight_layout()\n"
   ]
  },
  {
   "cell_type": "code",
   "execution_count": 53,
   "metadata": {
    "execution": {
     "iopub.execute_input": "2022-03-20T21:45:42.316367Z",
     "iopub.status.busy": "2022-03-20T21:45:42.315504Z",
     "iopub.status.idle": "2022-03-20T21:45:42.336288Z",
     "shell.execute_reply": "2022-03-20T21:45:42.335514Z",
     "shell.execute_reply.started": "2022-03-20T21:45:42.316319Z"
    }
   },
   "outputs": [],
   "source": [
    "net = Net() \n",
    "criterion = nn.CrossEntropyLoss()\n",
    "optimizer = optim.Adam(net.parameters(), lr=0.001, weight_decay= 1e-4)\n",
    "if torch.cuda.is_available():\n",
    "    criterion.to(device)\n",
    "    net.to(device)\n",
    "print(net)"
   ]
  },
  {
   "cell_type": "code",
   "execution_count": 54,
   "metadata": {
    "execution": {
     "iopub.execute_input": "2022-03-20T21:45:45.946626Z",
     "iopub.status.busy": "2022-03-20T21:45:45.946112Z",
     "iopub.status.idle": "2022-03-20T21:45:45.951156Z",
     "shell.execute_reply": "2022-03-20T21:45:45.950128Z",
     "shell.execute_reply.started": "2022-03-20T21:45:45.946577Z"
    }
   },
   "outputs": [],
   "source": [
    "train_acc = []\n",
    "test_acc = []\n",
    "epochs = 25"
   ]
  },
  {
   "cell_type": "code",
   "execution_count": 55,
   "metadata": {
    "execution": {
     "iopub.execute_input": "2022-03-20T21:45:49.304021Z",
     "iopub.status.busy": "2022-03-20T21:45:49.303489Z",
     "iopub.status.idle": "2022-03-20T22:34:17.074697Z",
     "shell.execute_reply": "2022-03-20T22:34:17.073883Z",
     "shell.execute_reply.started": "2022-03-20T21:45:49.303981Z"
    }
   },
   "outputs": [],
   "source": [
    "\n",
    "for epoch in range(epochs): \n",
    "\n",
    "    running_loss = 0.0\n",
    "    for i, data in enumerate(trainloader, 0):\n",
    "        inputs, labels = data\n",
    "        inputs, labels = inputs.to(device), labels.to(device)\n",
    "\n",
    "        optimizer.zero_grad()\n",
    "\n",
    "        outputs = net(inputs)\n",
    "        loss = criterion(outputs, labels)\n",
    "        loss.backward()\n",
    "        optimizer.step()\n",
    "        running_loss += loss.item()\n",
    "\n",
    "    print(f'[Epoch: {epoch + 1}, Steps: {i + 1:5d}] loss after epoch: {running_loss / (i+1):.3f}')\n",
    "    train_acc.append(accuracy(trainloader, net))\n",
    "    test_acc.append(accuracy(testloader, net))\n",
    "\n",
    "print('Finished Training')"
   ]
  },
  {
   "cell_type": "code",
   "execution_count": 56,
   "metadata": {
    "execution": {
     "iopub.execute_input": "2022-03-20T22:34:17.077247Z",
     "iopub.status.busy": "2022-03-20T22:34:17.076982Z",
     "iopub.status.idle": "2022-03-20T22:34:17.092019Z",
     "shell.execute_reply": "2022-03-20T22:34:17.091335Z",
     "shell.execute_reply.started": "2022-03-20T22:34:17.077212Z"
    }
   },
   "outputs": [],
   "source": [
    "PATH = './model16.pth'\n",
    "torch.save(net.state_dict(), PATH)"
   ]
  },
  {
   "cell_type": "code",
   "execution_count": 57,
   "metadata": {
    "execution": {
     "iopub.execute_input": "2022-03-20T22:34:17.093658Z",
     "iopub.status.busy": "2022-03-20T22:34:17.093389Z",
     "iopub.status.idle": "2022-03-20T22:34:17.289138Z",
     "shell.execute_reply": "2022-03-20T22:34:17.288522Z",
     "shell.execute_reply.started": "2022-03-20T22:34:17.093622Z"
    }
   },
   "outputs": [],
   "source": [
    "plt.figure(figsize=(5, 8))\n",
    "plt.plot(range(1,epochs+1), train_acc, label='Training Accuracy')\n",
    "plt.plot(range(1,epochs+1), test_acc, label='Test Accuracy')\n",
    "plt.legend()\n",
    "plt.ylim(0.4,1.0)\n",
    "plt.xlim(1,epochs+1)\n",
    "plt.title('Training and Testing Accuracy')\n",
    "plt.show()"
   ]
  },
  {
   "cell_type": "code",
   "execution_count": 58,
   "metadata": {
    "execution": {
     "iopub.execute_input": "2022-03-20T22:34:17.291711Z",
     "iopub.status.busy": "2022-03-20T22:34:17.291000Z",
     "iopub.status.idle": "2022-03-20T22:34:20.845498Z",
     "shell.execute_reply": "2022-03-20T22:34:20.844686Z",
     "shell.execute_reply.started": "2022-03-20T22:34:17.291669Z"
    }
   },
   "outputs": [],
   "source": [
    "fig,ax=plt.subplots(3,4)\n",
    "fig.set_size_inches(16,12)\n",
    "img,y = iter(testloader).next()\n",
    "img, y = img.to(device), y.to(device)\n",
    "outputs = net(img)\n",
    "_, pred= torch.max(outputs, 1)\n",
    "img = inverse(img)\n",
    "img = img.to('cpu')\n",
    "for i in range(3):\n",
    "    for j in range (4):\n",
    "        idx=rn.randint(0,batch_size-1)\n",
    "        # label = list(train_dataset.class_indices.keys())[np.argmax(y[l])]\n",
    "        npimg = img[idx].numpy()\n",
    "        ax[i,j].imshow(np.transpose(npimg, (1, 2, 0)))\n",
    "        if y[idx] == pred[idx]:\n",
    "            ax[i,j].set_title('Actual: '+classes[y[idx]]+'  Predicted: '+classes[pred[idx]], color = 'green')\n",
    "        else:\n",
    "            ax[i,j].set_title('Actual: '+classes[y[idx]]+'  Predicted: '+classes[pred[idx]], color = 'red')\n",
    "\n",
    "plt.tight_layout()\n",
    "# print images"
   ]
  },
  {
   "cell_type": "code",
   "execution_count": 59,
   "metadata": {
    "execution": {
     "iopub.execute_input": "2022-03-20T22:34:20.847417Z",
     "iopub.status.busy": "2022-03-20T22:34:20.846880Z",
     "iopub.status.idle": "2022-03-20T22:34:20.853575Z",
     "shell.execute_reply": "2022-03-20T22:34:20.852886Z",
     "shell.execute_reply.started": "2022-03-20T22:34:20.847378Z"
    }
   },
   "outputs": [],
   "source": [
    "test_acc"
   ]
  },
  {
   "cell_type": "code",
   "execution_count": 60,
   "metadata": {
    "execution": {
     "iopub.execute_input": "2022-03-20T22:34:20.855403Z",
     "iopub.status.busy": "2022-03-20T22:34:20.854957Z",
     "iopub.status.idle": "2022-03-20T22:34:20.865875Z",
     "shell.execute_reply": "2022-03-20T22:34:20.865191Z",
     "shell.execute_reply.started": "2022-03-20T22:34:20.855329Z"
    }
   },
   "outputs": [],
   "source": [
    "train_acc"
   ]
  },
  {
   "cell_type": "code",
   "execution_count": null,
   "metadata": {},
   "outputs": [],
   "source": []
  }
 ],
 "metadata": {
  "kernelspec": {
   "display_name": "Python 3 (ipykernel)",
   "language": "python",
   "name": "python3"
  },
  "language_info": {
   "codemirror_mode": {
    "name": "ipython",
    "version": 3
   },
   "file_extension": ".py",
   "mimetype": "text/x-python",
   "name": "python",
   "nbconvert_exporter": "python",
   "pygments_lexer": "ipython3",
   "version": "3.9.9"
  }
 },
 "nbformat": 4,
 "nbformat_minor": 4
}
